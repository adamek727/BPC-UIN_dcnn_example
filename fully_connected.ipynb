{
 "cells": [
  {
   "cell_type": "markdown",
   "metadata": {},
   "source": [
    "# Fully Connected Example"
   ]
  },
  {
   "cell_type": "code",
   "execution_count": 1,
   "metadata": {},
   "outputs": [],
   "source": [
    "import numpy as np\n",
    "import tensorflow as tf\n",
    "from tensorflow import keras\n",
    "from tensorflow.keras import layers\n",
    "from keras import backend as K\n",
    "\n",
    "import matplotlib.pyplot as plt\n",
    "from random import randint"
   ]
  },
  {
   "cell_type": "markdown",
   "metadata": {},
   "source": [
    "## Check if GPU is avalilable"
   ]
  },
  {
   "cell_type": "code",
   "execution_count": 2,
   "metadata": {},
   "outputs": [
    {
     "data": {
      "text/plain": [
       "[]"
      ]
     },
     "execution_count": 2,
     "metadata": {},
     "output_type": "execute_result"
    }
   ],
   "source": [
    "tf.config.list_physical_devices('GPU')"
   ]
  },
  {
   "cell_type": "markdown",
   "metadata": {},
   "source": [
    "## Load Data"
   ]
  },
  {
   "cell_type": "code",
   "execution_count": 3,
   "metadata": {},
   "outputs": [
    {
     "name": "stdout",
     "output_type": "stream",
     "text": [
      "x_train shape: (60000, 784, 1)\n",
      "y_train shape: (60000, 10)\n",
      "x_test shape: (10000, 784, 1)\n",
      "y_test shape: (10000, 10)\n"
     ]
    }
   ],
   "source": [
    "num_classes = 10\n",
    "image_shape = (28, 28, 1)\n",
    "input_shape = (28 * 28)\n",
    "\n",
    "(x_train, y_train), (x_test, y_test) = keras.datasets.mnist.load_data()\n",
    "\n",
    "x_train = x_train.astype(\"float32\") / 255\n",
    "x_test = x_test.astype(\"float32\") / 255\n",
    "\n",
    "# 2D image (28 * 28) to 1D vector (784)\n",
    "x_train = x_train.reshape(-1, input_shape)\n",
    "x_test = x_test.reshape(-1, input_shape)\n",
    "\n",
    "x_train = np.expand_dims(x_train, -1)\n",
    "x_test = np.expand_dims(x_test, -1)\n",
    "\n",
    "y_train = keras.utils.to_categorical(y_train, num_classes)\n",
    "y_test = keras.utils.to_categorical(y_test, num_classes)\n",
    "\n",
    "print(\"x_train shape:\", x_train.shape)\n",
    "print(\"y_train shape:\", y_train.shape)\n",
    "print(\"x_test shape:\", x_test.shape)\n",
    "print(\"y_test shape:\", y_test.shape)"
   ]
  },
  {
   "cell_type": "markdown",
   "metadata": {},
   "source": [
    "## Visualize data"
   ]
  },
  {
   "cell_type": "code",
   "execution_count": 4,
   "metadata": {},
   "outputs": [
    {
     "name": "stdout",
     "output_type": "stream",
     "text": [
      " --- Example 1 --- \n"
     ]
    },
    {
     "data": {
      "image/png": "[encoded data removed]",
      "text/plain": [
       "<Figure size 432x288 with 1 Axes>"
      ]
     },
     "metadata": {
      "needs_background": "light"
     },
     "output_type": "display_data"
    },
    {
     "name": "stdout",
     "output_type": "stream",
     "text": [
      "Y training:  [0. 1. 0. 0. 0. 0. 0. 0. 0. 0.]\n",
      "Class:  1\n",
      " --- Example 2 --- \n"
     ]
    },
    {
     "data": {
      "image/png": "[encoded data removed]",
      "text/plain": [
       "<Figure size 432x288 with 1 Axes>"
      ]
     },
     "metadata": {
      "needs_background": "light"
     },
     "output_type": "display_data"
    },
    {
     "name": "stdout",
     "output_type": "stream",
     "text": [
      "Y training:  [0. 0. 0. 0. 0. 0. 0. 0. 1. 0.]\n",
      "Class:  8\n",
      " --- Example 3 --- \n"
     ]
    },
    {
     "data": {
      "image/png": "[encoded data removed]",
      "text/plain": [
       "<Figure size 432x288 with 1 Axes>"
      ]
     },
     "metadata": {
      "needs_background": "light"
     },
     "output_type": "display_data"
    },
    {
     "name": "stdout",
     "output_type": "stream",
     "text": [
      "Y training:  [0. 0. 0. 0. 0. 0. 0. 0. 1. 0.]\n",
      "Class:  8\n",
      " --- Example 4 --- \n"
     ]
    },
    {
     "data": {
      "image/png": "[encoded data removed]",
      "text/plain": [
       "<Figure size 432x288 with 1 Axes>"
      ]
     },
     "metadata": {
      "needs_background": "light"
     },
     "output_type": "display_data"
    },
    {
     "name": "stdout",
     "output_type": "stream",
     "text": [
      "Y training:  [0. 0. 0. 0. 0. 0. 0. 0. 0. 1.]\n",
      "Class:  9\n",
      " --- Example 5 --- \n"
     ]
    },
    {
     "data": {
      "image/png": "[encoded data removed]",
      "text/plain": [
       "<Figure size 432x288 with 1 Axes>"
      ]
     },
     "metadata": {
      "needs_background": "light"
     },
     "output_type": "display_data"
    },
    {
     "name": "stdout",
     "output_type": "stream",
     "text": [
      "Y training:  [0. 0. 0. 0. 0. 0. 0. 0. 0. 1.]\n",
      "Class:  9\n"
     ]
    }
   ],
   "source": [
    "for i in range(5):\n",
    "    print(' --- Example ' + str(i+1)+ ' --- ')\n",
    "    rand_index = randint(0, x_train.shape[0])\n",
    "    plt.imshow(x_train[rand_index].reshape(image_shape))\n",
    "    plt.show()\n",
    "    print('Y training: ', y_train[rand_index])\n",
    "    print('Class: ', np.argmax(y_train[rand_index]))"
   ]
  },
  {
   "cell_type": "markdown",
   "metadata": {},
   "source": [
    "## Create Model"
   ]
  },
  {
   "cell_type": "code",
   "execution_count": 5,
   "metadata": {},
   "outputs": [
    {
     "name": "stdout",
     "output_type": "stream",
     "text": [
      "Model: \"sequential\"\n",
      "_________________________________________________________________\n",
      "Layer (type)                 Output Shape              Param #   \n",
      "=================================================================\n",
      "dropout (Dropout)            (None, 784)               0         \n",
      "_________________________________________________________________\n",
      "dense (Dense)                (None, 30)                23550     \n",
      "_________________________________________________________________\n",
      "dropout_1 (Dropout)          (None, 30)                0         \n",
      "_________________________________________________________________\n",
      "dense_1 (Dense)              (None, 10)                310       \n",
      "=================================================================\n",
      "Total params: 23,860\n",
      "Trainable params: 23,860\n",
      "Non-trainable params: 0\n",
      "_________________________________________________________________\n"
     ]
    }
   ],
   "source": [
    "model = keras.Sequential(\n",
    "    [\n",
    "        keras.Input(shape=input_shape),\n",
    "        layers.Dropout(0.5),\n",
    "        layers.Dense(30, activation=\"relu\"),\n",
    "        layers.Dropout(0.5),\n",
    "        layers.Dense(num_classes, activation=\"softmax\"),\n",
    "    ]\n",
    ")\n",
    "\n",
    "model.summary()"
   ]
  },
  {
   "cell_type": "markdown",
   "metadata": {},
   "source": [
    "## Learn Model"
   ]
  },
  {
   "cell_type": "code",
   "execution_count": 6,
   "metadata": {},
   "outputs": [
    {
     "name": "stdout",
     "output_type": "stream",
     "text": [
      "Epoch 1/15\n",
      "422/422 [==============================] - 1s 2ms/step - loss: 1.1920 - accuracy: 0.5949 - val_loss: 0.4001 - val_accuracy: 0.9142\n",
      "Epoch 2/15\n",
      "422/422 [==============================] - 1s 2ms/step - loss: 0.8128 - accuracy: 0.7324 - val_loss: 0.3224 - val_accuracy: 0.9260\n",
      "Epoch 3/15\n",
      "422/422 [==============================] - 1s 2ms/step - loss: 0.7424 - accuracy: 0.7576 - val_loss: 0.2864 - val_accuracy: 0.9343\n",
      "Epoch 4/15\n",
      "422/422 [==============================] - 1s 2ms/step - loss: 0.7075 - accuracy: 0.7678 - val_loss: 0.2672 - val_accuracy: 0.9357\n",
      "Epoch 5/15\n",
      "422/422 [==============================] - 1s 2ms/step - loss: 0.6890 - accuracy: 0.7735 - val_loss: 0.2624 - val_accuracy: 0.9378\n",
      "Epoch 6/15\n",
      "422/422 [==============================] - 1s 2ms/step - loss: 0.6728 - accuracy: 0.7788 - val_loss: 0.2439 - val_accuracy: 0.9388\n",
      "Epoch 7/15\n",
      "422/422 [==============================] - 1s 2ms/step - loss: 0.6581 - accuracy: 0.7816 - val_loss: 0.2433 - val_accuracy: 0.9425\n",
      "Epoch 8/15\n",
      "422/422 [==============================] - 1s 2ms/step - loss: 0.6601 - accuracy: 0.7828 - val_loss: 0.2345 - val_accuracy: 0.9417\n",
      "Epoch 9/15\n",
      "422/422 [==============================] - 1s 2ms/step - loss: 0.6375 - accuracy: 0.7893 - val_loss: 0.2321 - val_accuracy: 0.9437\n",
      "Epoch 10/15\n",
      "422/422 [==============================] - 1s 2ms/step - loss: 0.6394 - accuracy: 0.7896 - val_loss: 0.2253 - val_accuracy: 0.9428\n",
      "Epoch 11/15\n",
      "422/422 [==============================] - 1s 2ms/step - loss: 0.6325 - accuracy: 0.7921 - val_loss: 0.2224 - val_accuracy: 0.9427\n",
      "Epoch 12/15\n",
      "422/422 [==============================] - 1s 3ms/step - loss: 0.6260 - accuracy: 0.7938 - val_loss: 0.2166 - val_accuracy: 0.9458\n",
      "Epoch 13/15\n",
      "422/422 [==============================] - 1s 2ms/step - loss: 0.6157 - accuracy: 0.7959 - val_loss: 0.2168 - val_accuracy: 0.9450\n",
      "Epoch 14/15\n",
      "422/422 [==============================] - 1s 2ms/step - loss: 0.6128 - accuracy: 0.7977 - val_loss: 0.2155 - val_accuracy: 0.9455\n",
      "Epoch 15/15\n",
      "422/422 [==============================] - 1s 2ms/step - loss: 0.6090 - accuracy: 0.7999 - val_loss: 0.2105 - val_accuracy: 0.9475\n"
     ]
    },
    {
     "data": {
      "text/plain": [
       "<tensorflow.python.keras.callbacks.History at 0x7f12af133710>"
      ]
     },
     "execution_count": 6,
     "metadata": {},
     "output_type": "execute_result"
    }
   ],
   "source": [
    "batch_size = 128\n",
    "epochs = 15\n",
    "\n",
    "model.compile(loss=\"categorical_crossentropy\", optimizer=\"adam\", metrics=[\"accuracy\"])\n",
    "\n",
    "model.fit(x_train, y_train, batch_size=batch_size, epochs=epochs, validation_split=0.1)"
   ]
  },
  {
   "cell_type": "markdown",
   "metadata": {},
   "source": [
    "## Validate Results"
   ]
  },
  {
   "cell_type": "code",
   "execution_count": 7,
   "metadata": {},
   "outputs": [
    {
     "name": "stdout",
     "output_type": "stream",
     "text": [
      "Test loss: 0.25594562292099\n",
      "Test accuracy: 0.9319000244140625\n"
     ]
    }
   ],
   "source": [
    "score = model.evaluate(x_test, y_test, verbose=0)\n",
    "print(\"Test loss:\", score[0])\n",
    "print(\"Test accuracy:\", score[1])"
   ]
  },
  {
   "cell_type": "markdown",
   "metadata": {},
   "source": [
    "## Visualize predictions"
   ]
  },
  {
   "cell_type": "code",
   "execution_count": 8,
   "metadata": {},
   "outputs": [
    {
     "name": "stdout",
     "output_type": "stream",
     "text": [
      " --- Prediction 1 --- \n"
     ]
    },
    {
     "data": {
      "image/png": "[encoded data removed]",
      "text/plain": [
       "<Figure size 432x288 with 1 Axes>"
      ]
     },
     "metadata": {
      "needs_background": "light"
     },
     "output_type": "display_data"
    },
    {
     "name": "stdout",
     "output_type": "stream",
     "text": [
      "NN output:  [[1.5807875e-04 1.7240563e-04 3.7602538e-03 4.7974312e-03 1.5287189e-04\n",
      "  1.0456233e-02 2.1259541e-05 5.1665463e-04 9.7508925e-01 4.8755761e-03]]\n",
      "Highest activation:  8\n",
      " --- Prediction 2 --- \n"
     ]
    },
    {
     "data": {
      "image/png": "[encoded data removed]",
      "text/plain": [
       "<Figure size 432x288 with 1 Axes>"
      ]
     },
     "metadata": {
      "needs_background": "light"
     },
     "output_type": "display_data"
    },
    {
     "name": "stdout",
     "output_type": "stream",
     "text": [
      "NN output:  [[4.8479181e-09 1.8634913e-07 4.1907792e-06 1.0240518e-03 3.3030391e-02\n",
      "  7.7011524e-04 5.6012592e-08 6.5837912e-03 1.0826132e-03 9.5750451e-01]]\n",
      "Highest activation:  9\n",
      " --- Prediction 3 --- \n"
     ]
    },
    {
     "data": {
      "image/png": "[encoded data removed]",
      "text/plain": [
       "<Figure size 432x288 with 1 Axes>"
      ]
     },
     "metadata": {
      "needs_background": "light"
     },
     "output_type": "display_data"
    },
    {
     "name": "stdout",
     "output_type": "stream",
     "text": [
      "NN output:  [[6.3635173e-07 9.2655510e-01 1.7713656e-03 2.0737990e-03 2.0079371e-04\n",
      "  2.8351718e-03 8.5918262e-05 1.0117063e-03 6.5394066e-02 7.1468385e-05]]\n",
      "Highest activation:  1\n",
      " --- Prediction 4 --- \n"
     ]
    },
    {
     "data": {
      "image/png": "[encoded data removed]",
      "text/plain": [
       "<Figure size 432x288 with 1 Axes>"
      ]
     },
     "metadata": {
      "needs_background": "light"
     },
     "output_type": "display_data"
    },
    {
     "name": "stdout",
     "output_type": "stream",
     "text": [
      "NN output:  [[3.3993091e-04 5.4411771e-06 2.8022850e-02 9.6637583e-01 3.6226231e-09\n",
      "  2.3823180e-03 7.9896864e-08 5.5649225e-06 2.8584788e-03 9.5350479e-06]]\n",
      "Highest activation:  3\n",
      " --- Prediction 5 --- \n"
     ]
    },
    {
     "data": {
      "image/png": "[encoded data removed]",
      "text/plain": [
       "<Figure size 432x288 with 1 Axes>"
      ]
     },
     "metadata": {
      "needs_background": "light"
     },
     "output_type": "display_data"
    },
    {
     "name": "stdout",
     "output_type": "stream",
     "text": [
      "NN output:  [[3.6754412e-07 9.7829962e-01 9.8658563e-04 6.7315721e-03 1.3672144e-04\n",
      "  1.5936389e-03 4.5504872e-05 4.4326633e-03 7.1469429e-03 6.2642194e-04]]\n",
      "Highest activation:  1\n"
     ]
    }
   ],
   "source": [
    "for i in range(5):\n",
    "    print(' --- Prediction ' + str(i+1)+ ' --- ')\n",
    "    rand_index = randint(0, x_test.shape[0])\n",
    "    \n",
    "    x_data = x_test[rand_index]\n",
    "    prediction = model.predict(np.expand_dims(x_data, axis=0))\n",
    "    \n",
    "    plt.imshow(x_data.reshape(image_shape))\n",
    "    plt.show()\n",
    "    print('NN output: ', prediction)\n",
    "    print('Highest activation: ', np.argmax(prediction))"
   ]
  },
  {
   "cell_type": "code",
   "execution_count": null,
   "metadata": {},
   "outputs": [],
   "source": []
  }
 ],
 "metadata": {
  "kernelspec": {
   "display_name": "Python 3",
   "language": "python",
   "name": "python3"
  },
  "language_info": {
   "codemirror_mode": {
    "name": "ipython",
    "version": 3
   },
   "file_extension": ".py",
   "mimetype": "text/x-python",
   "name": "python",
   "nbconvert_exporter": "python",
   "pygments_lexer": "ipython3",
   "version": "3.7.9"
  }
 },
 "nbformat": 4,
 "nbformat_minor": 4
}
